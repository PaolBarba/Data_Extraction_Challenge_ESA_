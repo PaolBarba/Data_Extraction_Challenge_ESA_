{
 "cells": [
  {
   "cell_type": "code",
   "execution_count": null,
   "id": "0",
   "metadata": {},
   "outputs": [],
   "source": [
    "from pathlib import Path\n",
    "\n",
    "import pandas as pd\n",
    "\n",
    "# Get the directory of the current script\n",
    "base_dir = Path(\"Data_Discovery\").parent\n",
    "\n",
    "# Navigate three directories up and into your desired folder (replace 'your_file.csv' with actual filename)\n",
    "csv_path = (base_dir / \"..\" / \"..\" / \"..\" / \"dataset/discovery.csv\").resolve()\n",
    "\n",
    "# Read the CSV\n",
    "df = pd.read_csv(csv_path, header=0, delimiter=\";\")\n",
    "print(df.head(10))"
   ]
  },
  {
   "cell_type": "code",
   "execution_count": null,
   "id": "1",
   "metadata": {},
   "outputs": [],
   "source": [
    "df.groupby(\"NAME\").count()"
   ]
  },
  {
   "cell_type": "code",
   "execution_count": null,
   "id": "2",
   "metadata": {},
   "outputs": [],
   "source": []
  }
 ],
 "metadata": {
  "kernelspec": {
   "display_name": "Python 3",
   "language": "python",
   "name": "python3"
  },
  "language_info": {
   "codemirror_mode": {
    "name": "ipython",
    "version": 3
   },
   "file_extension": ".py",
   "mimetype": "text/x-python",
   "name": "python",
   "nbconvert_exporter": "python",
   "pygments_lexer": "ipython3",
   "version": "3.11.7"
  }
 },
 "nbformat": 4,
 "nbformat_minor": 5
}
